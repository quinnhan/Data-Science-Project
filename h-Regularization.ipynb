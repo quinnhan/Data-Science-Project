{
 "cells": [
  {
   "cell_type": "markdown",
   "metadata": {},
   "source": [
    "# Supervised Learning\n",
    "We saw a few examples of machine learning algorithms, so at this point it seems like once you get the data ready, machine learning is just \"plug and play\", but not so fast! \n",
    "\n",
    "Let's learn about **regularization**! Regularization is a means by which we can control how much a machine learning algorithm learns. The controlling is done using a parameter that the algorithm, called the **shrinkage parameter**, which is just an argument of the algorithm. The shrinkage parameter is an example of a **hyper-parameter**. A hyper-parameter is like a knob: by specifying a different value for the hyper-parameter, we control how the training happens, a process called **hyper-parameter tuning**. We talk about this is more detail in the next lesson.\n",
    "\n",
    "We will look at two examples of regularizaiton: LASSO and Ridge regression. Both LASSO and Ridge regression are implementations of linear regression where we try to minimize prediction error plus some penalty that depends on the model's parameters (or coefficients) and the shrinkage constant (`alpha` in the code below). LASSO penalizes the model's parameters using the sum of the **absolute values** of the parameters (this is also called **L1-regularization**), while Ridge does so based on the sum of the **squared values** of the parameters (this is also called **L2-regularization**). For reasons we cannot elaborate on here, **LASSO has the by-product that it also does feature selection**, whereas Ridge doesn't. So not all regularization results in feature selection."
   ]
  },
  {
   "cell_type": "code",
   "execution_count": 1,
   "metadata": {},
   "outputs": [
    {
     "data": {
      "text/html": [
       "<div>\n",
       "<style scoped>\n",
       "    .dataframe tbody tr th:only-of-type {\n",
       "        vertical-align: middle;\n",
       "    }\n",
       "\n",
       "    .dataframe tbody tr th {\n",
       "        vertical-align: top;\n",
       "    }\n",
       "\n",
       "    .dataframe thead th {\n",
       "        text-align: right;\n",
       "    }\n",
       "</style>\n",
       "<table border=\"1\" class=\"dataframe\">\n",
       "  <thead>\n",
       "    <tr style=\"text-align: right;\">\n",
       "      <th></th>\n",
       "      <th>CRIM</th>\n",
       "      <th>ZN</th>\n",
       "      <th>INDUS</th>\n",
       "      <th>CHAS</th>\n",
       "      <th>NOX</th>\n",
       "      <th>RM</th>\n",
       "      <th>AGE</th>\n",
       "      <th>DIS</th>\n",
       "      <th>RAD</th>\n",
       "      <th>TAX</th>\n",
       "      <th>PTRATIO</th>\n",
       "      <th>B</th>\n",
       "      <th>LSTAT</th>\n",
       "      <th>MEDV</th>\n",
       "    </tr>\n",
       "  </thead>\n",
       "  <tbody>\n",
       "    <tr>\n",
       "      <th>0</th>\n",
       "      <td>0.00632</td>\n",
       "      <td>18.0</td>\n",
       "      <td>2.31</td>\n",
       "      <td>0</td>\n",
       "      <td>0.538</td>\n",
       "      <td>6.575</td>\n",
       "      <td>65.2</td>\n",
       "      <td>4.0900</td>\n",
       "      <td>1</td>\n",
       "      <td>296</td>\n",
       "      <td>15.3</td>\n",
       "      <td>396.90</td>\n",
       "      <td>4.98</td>\n",
       "      <td>24.0</td>\n",
       "    </tr>\n",
       "    <tr>\n",
       "      <th>1</th>\n",
       "      <td>0.02731</td>\n",
       "      <td>0.0</td>\n",
       "      <td>7.07</td>\n",
       "      <td>0</td>\n",
       "      <td>0.469</td>\n",
       "      <td>6.421</td>\n",
       "      <td>78.9</td>\n",
       "      <td>4.9671</td>\n",
       "      <td>2</td>\n",
       "      <td>242</td>\n",
       "      <td>17.8</td>\n",
       "      <td>396.90</td>\n",
       "      <td>9.14</td>\n",
       "      <td>21.6</td>\n",
       "    </tr>\n",
       "    <tr>\n",
       "      <th>2</th>\n",
       "      <td>0.02729</td>\n",
       "      <td>0.0</td>\n",
       "      <td>7.07</td>\n",
       "      <td>0</td>\n",
       "      <td>0.469</td>\n",
       "      <td>7.185</td>\n",
       "      <td>61.1</td>\n",
       "      <td>4.9671</td>\n",
       "      <td>2</td>\n",
       "      <td>242</td>\n",
       "      <td>17.8</td>\n",
       "      <td>392.83</td>\n",
       "      <td>4.03</td>\n",
       "      <td>34.7</td>\n",
       "    </tr>\n",
       "    <tr>\n",
       "      <th>3</th>\n",
       "      <td>0.03237</td>\n",
       "      <td>0.0</td>\n",
       "      <td>2.18</td>\n",
       "      <td>0</td>\n",
       "      <td>0.458</td>\n",
       "      <td>6.998</td>\n",
       "      <td>45.8</td>\n",
       "      <td>6.0622</td>\n",
       "      <td>3</td>\n",
       "      <td>222</td>\n",
       "      <td>18.7</td>\n",
       "      <td>394.63</td>\n",
       "      <td>2.94</td>\n",
       "      <td>33.4</td>\n",
       "    </tr>\n",
       "    <tr>\n",
       "      <th>4</th>\n",
       "      <td>0.06905</td>\n",
       "      <td>0.0</td>\n",
       "      <td>2.18</td>\n",
       "      <td>0</td>\n",
       "      <td>0.458</td>\n",
       "      <td>7.147</td>\n",
       "      <td>54.2</td>\n",
       "      <td>6.0622</td>\n",
       "      <td>3</td>\n",
       "      <td>222</td>\n",
       "      <td>18.7</td>\n",
       "      <td>396.90</td>\n",
       "      <td>5.33</td>\n",
       "      <td>36.2</td>\n",
       "    </tr>\n",
       "  </tbody>\n",
       "</table>\n",
       "</div>"
      ],
      "text/plain": [
       "      CRIM    ZN  INDUS  CHAS    NOX     RM   AGE     DIS  RAD  TAX  PTRATIO  \\\n",
       "0  0.00632  18.0   2.31     0  0.538  6.575  65.2  4.0900    1  296     15.3   \n",
       "1  0.02731   0.0   7.07     0  0.469  6.421  78.9  4.9671    2  242     17.8   \n",
       "2  0.02729   0.0   7.07     0  0.469  7.185  61.1  4.9671    2  242     17.8   \n",
       "3  0.03237   0.0   2.18     0  0.458  6.998  45.8  6.0622    3  222     18.7   \n",
       "4  0.06905   0.0   2.18     0  0.458  7.147  54.2  6.0622    3  222     18.7   \n",
       "\n",
       "        B  LSTAT  MEDV  \n",
       "0  396.90   4.98  24.0  \n",
       "1  396.90   9.14  21.6  \n",
       "2  392.83   4.03  34.7  \n",
       "3  394.63   2.94  33.4  \n",
       "4  396.90   5.33  36.2  "
      ]
     },
     "execution_count": 1,
     "metadata": {},
     "output_type": "execute_result"
    }
   ],
   "source": [
    "import numpy as np\n",
    "import pandas as pd\n",
    "import seaborn as sns\n",
    "import matplotlib.pyplot as plt\n",
    "\n",
    "df_housing = pd.read_csv(\"boston-house-prices.csv\", skiprows = 1)\n",
    "df_housing.head()"
   ]
  },
  {
   "cell_type": "markdown",
   "metadata": {},
   "source": [
    "Here's the description of the data:\n",
    "\n",
    "- `CRIM`: per capita crime rate by town\n",
    "- `ZN`: proportion of residential land zoned for lots over 25,000 sq.ft.\n",
    "- `INDUS`: proportion of non-retail business acres per town.\n",
    "- `CHAS`: Charles River dummy variable (1 if tract bounds river; 0 otherwise)\n",
    "- `NOX`: nitric oxides concentration (parts per 10 million)\n",
    "- `RM`: average number of rooms per dwelling\n",
    "- `AGE`: proportion of owner-occupied units built prior to 1940\n",
    "- `DIS`: weighted distances to five Boston employment centres\n",
    "- `RAD`: index of accessibility to radial highways\n",
    "- `TAX`: full-value property-tax rate per \\$10,000\n",
    "- `PTRATIO`: pupil-teacher ratio by town\n",
    "- `B`: $1000(Bk - 0.63)^2$ where $Bk$ is the proportion of black residents by town\n",
    "- `LSTAT`: % lower status of the population\n",
    "- `MEDV`: Median value of owner-occupied homes in $1000's"
   ]
  },
  {
   "cell_type": "markdown",
   "metadata": {},
   "source": [
    "To see how regularization works, let's return to the model we trained in the lab from the data above."
   ]
  },
  {
   "cell_type": "code",
   "execution_count": 2,
   "metadata": {},
   "outputs": [
    {
     "data": {
      "text/html": [
       "<div>\n",
       "<style scoped>\n",
       "    .dataframe tbody tr th:only-of-type {\n",
       "        vertical-align: middle;\n",
       "    }\n",
       "\n",
       "    .dataframe tbody tr th {\n",
       "        vertical-align: top;\n",
       "    }\n",
       "\n",
       "    .dataframe thead th {\n",
       "        text-align: right;\n",
       "    }\n",
       "</style>\n",
       "<table border=\"1\" class=\"dataframe\">\n",
       "  <thead>\n",
       "    <tr style=\"text-align: right;\">\n",
       "      <th></th>\n",
       "      <th>CRIM</th>\n",
       "      <th>ZN</th>\n",
       "      <th>INDUS</th>\n",
       "      <th>CHAS</th>\n",
       "      <th>NOX</th>\n",
       "      <th>RM</th>\n",
       "      <th>AGE</th>\n",
       "      <th>DIS</th>\n",
       "      <th>RAD</th>\n",
       "      <th>TAX</th>\n",
       "      <th>PTRATIO</th>\n",
       "      <th>B</th>\n",
       "      <th>LSTAT</th>\n",
       "    </tr>\n",
       "  </thead>\n",
       "  <tbody>\n",
       "    <tr>\n",
       "      <th>0</th>\n",
       "      <td>-0.416942</td>\n",
       "      <td>0.344513</td>\n",
       "      <td>-1.117966</td>\n",
       "      <td>-0.270395</td>\n",
       "      <td>-0.960137</td>\n",
       "      <td>0.943640</td>\n",
       "      <td>-1.102673</td>\n",
       "      <td>0.654891</td>\n",
       "      <td>-0.523106</td>\n",
       "      <td>-1.144555</td>\n",
       "      <td>-1.601746</td>\n",
       "      <td>0.398294</td>\n",
       "      <td>-1.108176</td>\n",
       "    </tr>\n",
       "    <tr>\n",
       "      <th>1</th>\n",
       "      <td>-0.280002</td>\n",
       "      <td>-0.499723</td>\n",
       "      <td>-0.421068</td>\n",
       "      <td>-0.270395</td>\n",
       "      <td>-0.145806</td>\n",
       "      <td>-0.222195</td>\n",
       "      <td>0.832605</td>\n",
       "      <td>0.069475</td>\n",
       "      <td>-0.638367</td>\n",
       "      <td>-0.601866</td>\n",
       "      <td>1.175568</td>\n",
       "      <td>0.448420</td>\n",
       "      <td>0.863237</td>\n",
       "    </tr>\n",
       "    <tr>\n",
       "      <th>2</th>\n",
       "      <td>-0.408091</td>\n",
       "      <td>-0.499723</td>\n",
       "      <td>-0.360216</td>\n",
       "      <td>-0.270395</td>\n",
       "      <td>-0.299938</td>\n",
       "      <td>0.679704</td>\n",
       "      <td>0.108207</td>\n",
       "      <td>-0.448063</td>\n",
       "      <td>-0.523106</td>\n",
       "      <td>-0.142668</td>\n",
       "      <td>1.130038</td>\n",
       "      <td>0.434251</td>\n",
       "      <td>-0.678455</td>\n",
       "    </tr>\n",
       "    <tr>\n",
       "      <th>3</th>\n",
       "      <td>-0.359270</td>\n",
       "      <td>0.344513</td>\n",
       "      <td>-1.025240</td>\n",
       "      <td>-0.270395</td>\n",
       "      <td>0.171021</td>\n",
       "      <td>1.652175</td>\n",
       "      <td>-0.555824</td>\n",
       "      <td>-0.440721</td>\n",
       "      <td>-0.523106</td>\n",
       "      <td>-0.858301</td>\n",
       "      <td>-2.466811</td>\n",
       "      <td>0.377578</td>\n",
       "      <td>-1.307689</td>\n",
       "    </tr>\n",
       "    <tr>\n",
       "      <th>4</th>\n",
       "      <td>-0.000352</td>\n",
       "      <td>-0.499723</td>\n",
       "      <td>1.021988</td>\n",
       "      <td>-0.270395</td>\n",
       "      <td>0.239524</td>\n",
       "      <td>0.017747</td>\n",
       "      <td>-0.580681</td>\n",
       "      <td>0.076309</td>\n",
       "      <td>1.666847</td>\n",
       "      <td>1.539070</td>\n",
       "      <td>0.811330</td>\n",
       "      <td>0.359545</td>\n",
       "      <td>-0.272453</td>\n",
       "    </tr>\n",
       "  </tbody>\n",
       "</table>\n",
       "</div>"
      ],
      "text/plain": [
       "       CRIM        ZN     INDUS      CHAS       NOX        RM       AGE  \\\n",
       "0 -0.416942  0.344513 -1.117966 -0.270395 -0.960137  0.943640 -1.102673   \n",
       "1 -0.280002 -0.499723 -0.421068 -0.270395 -0.145806 -0.222195  0.832605   \n",
       "2 -0.408091 -0.499723 -0.360216 -0.270395 -0.299938  0.679704  0.108207   \n",
       "3 -0.359270  0.344513 -1.025240 -0.270395  0.171021  1.652175 -0.555824   \n",
       "4 -0.000352 -0.499723  1.021988 -0.270395  0.239524  0.017747 -0.580681   \n",
       "\n",
       "        DIS       RAD       TAX   PTRATIO         B     LSTAT  \n",
       "0  0.654891 -0.523106 -1.144555 -1.601746  0.398294 -1.108176  \n",
       "1  0.069475 -0.638367 -0.601866  1.175568  0.448420  0.863237  \n",
       "2 -0.448063 -0.523106 -0.142668  1.130038  0.434251 -0.678455  \n",
       "3 -0.440721 -0.523106 -0.858301 -2.466811  0.377578 -1.307689  \n",
       "4  0.076309  1.666847  1.539070  0.811330  0.359545 -0.272453  "
      ]
     },
     "execution_count": 2,
     "metadata": {},
     "output_type": "execute_result"
    }
   ],
   "source": [
    "X = df_housing.drop(columns = 'MEDV')\n",
    "y = df_housing['MEDV']\n",
    "\n",
    "from sklearn.model_selection import train_test_split\n",
    "X_train, X_test, y_train, y_test = train_test_split(X, y, test_size = 0.10, random_state = 42)\n",
    "\n",
    "from sklearn.preprocessing import StandardScaler\n",
    "scaler = StandardScaler()\n",
    "scaler.fit(X_train)\n",
    "X_train = pd.DataFrame(scaler.transform(X_train), columns = X_train.columns)\n",
    "X_test = pd.DataFrame(scaler.transform(X_test), columns = X_test.columns)\n",
    "X_train.head()"
   ]
  },
  {
   "cell_type": "markdown",
   "metadata": {},
   "source": [
    "1. Train a linear regression algorithm to predict `MEDV` from the remaining features. "
   ]
  },
  {
   "cell_type": "code",
   "execution_count": 3,
   "metadata": {},
   "outputs": [],
   "source": [
    "from sklearn.linear_model import LinearRegression \n",
    "\n",
    "clf = LinearRegression()\n",
    "clf.fit(X_train,y_train)\n",
    "y_hat_train = clf.predict(X_train)\n",
    "y_hat_test = clf.predict(X_test)\n"
   ]
  },
  {
   "cell_type": "markdown",
   "metadata": {},
   "source": [
    "2. Evaluate the model and report the performance on both training and test data. These numbers will serve as our benchmark performance."
   ]
  },
  {
   "cell_type": "code",
   "execution_count": 1,
   "metadata": {},
   "outputs": [
    {
     "ename": "NameError",
     "evalue": "name 'y_train' is not defined",
     "output_type": "error",
     "traceback": [
      "\u001b[0;31m---------------------------------------------------------------------------\u001b[0m",
      "\u001b[0;31mNameError\u001b[0m                                 Traceback (most recent call last)",
      "\u001b[0;32m<ipython-input-1-ec8dd7b1188b>\u001b[0m in \u001b[0;36m<module>\u001b[0;34m\u001b[0m\n\u001b[1;32m      1\u001b[0m \u001b[0;32mfrom\u001b[0m \u001b[0msklearn\u001b[0m\u001b[0;34m.\u001b[0m\u001b[0mmetrics\u001b[0m \u001b[0;32mimport\u001b[0m \u001b[0mmean_squared_error\u001b[0m\u001b[0;34m\u001b[0m\u001b[0;34m\u001b[0m\u001b[0m\n\u001b[1;32m      2\u001b[0m \u001b[0;34m\u001b[0m\u001b[0m\n\u001b[0;32m----> 3\u001b[0;31m \u001b[0mrmse_train\u001b[0m \u001b[0;34m=\u001b[0m \u001b[0mmean_squared_error\u001b[0m\u001b[0;34m(\u001b[0m\u001b[0my_train\u001b[0m\u001b[0;34m,\u001b[0m \u001b[0my_hat_train\u001b[0m\u001b[0;34m)\u001b[0m \u001b[0;34m**\u001b[0m \u001b[0;36m0.5\u001b[0m\u001b[0;34m\u001b[0m\u001b[0;34m\u001b[0m\u001b[0m\n\u001b[0m\u001b[1;32m      4\u001b[0m \u001b[0mrmse_test\u001b[0m \u001b[0;34m=\u001b[0m \u001b[0mmean_squared_error\u001b[0m\u001b[0;34m(\u001b[0m\u001b[0my_test\u001b[0m\u001b[0;34m,\u001b[0m \u001b[0my_hat_test\u001b[0m\u001b[0;34m)\u001b[0m \u001b[0;34m**\u001b[0m \u001b[0;36m0.5\u001b[0m\u001b[0;34m\u001b[0m\u001b[0;34m\u001b[0m\u001b[0m\n\u001b[1;32m      5\u001b[0m \u001b[0;34m\u001b[0m\u001b[0m\n",
      "\u001b[0;31mNameError\u001b[0m: name 'y_train' is not defined"
     ]
    }
   ],
   "source": [
    "from sklearn.metrics import mean_squared_error\n",
    "\n",
    "rmse_train = mean_squared_error(y_train, y_hat_train) ** 0.5\n",
    "rmse_test = mean_squared_error(y_test, y_hat_test) ** 0.5\n",
    "\n",
    "print(\"RMSE on the training data: {:5.5f}.\".format(rmse_train))\n",
    "print(\"RMSE on the test data: {:5.5f}.\".format(rmse_test))"
   ]
  },
  {
   "cell_type": "markdown",
   "metadata": {},
   "source": [
    "We now train a regularized version of `LinearRegression` called `Lasso` (you can load it from the same library). `Lasso` has an argument called `alpha`, which is the **shrinkage parameter** we referred to earlier.\n",
    "\n",
    "3. Let `alpha = 0.000001` and train a `Lasso` algorithm. Show that the resulting model is practically identical to the one we trained with `LinearRegression`. There are different ways to show this, so you will need to think of a way. "
   ]
  },
  {
   "cell_type": "code",
   "execution_count": 5,
   "metadata": {},
   "outputs": [],
   "source": [
    "from sklearn.linear_model import Lasso\n",
    "alpha = 0.000001\n",
    "clf_lasso = Lasso(alpha)\n",
    "clf_lasso.fit(X_train,y_train)\n",
    "y_hat_train_lasso = clf_lasso.predict(X_train)\n",
    "y_hat_test_lasso = clf_lasso.predict(X_test)"
   ]
  },
  {
   "cell_type": "markdown",
   "metadata": {},
   "source": [
    "4. Iteratively train a new `Lasso` model, letting `alpha` change each time to one of the values given by `alpha_vals` below, keeping track of the performance on the training and test data each time, and storing the model's coefficients each time (the `coef_` attribute of the trained model). \n",
    "\n",
    "To make it easier, we have laid out general layout of the code. You can use this if you want or write your own program."
   ]
  },
  {
   "cell_type": "code",
   "execution_count": 6,
   "metadata": {},
   "outputs": [
    {
     "data": {
      "text/html": [
       "<div>\n",
       "<style scoped>\n",
       "    .dataframe tbody tr th:only-of-type {\n",
       "        vertical-align: middle;\n",
       "    }\n",
       "\n",
       "    .dataframe tbody tr th {\n",
       "        vertical-align: top;\n",
       "    }\n",
       "\n",
       "    .dataframe thead th {\n",
       "        text-align: right;\n",
       "    }\n",
       "</style>\n",
       "<table border=\"1\" class=\"dataframe\">\n",
       "  <thead>\n",
       "    <tr style=\"text-align: right;\">\n",
       "      <th></th>\n",
       "      <th>alpha</th>\n",
       "      <th>col</th>\n",
       "      <th>coef</th>\n",
       "    </tr>\n",
       "  </thead>\n",
       "  <tbody>\n",
       "    <tr>\n",
       "      <th>0</th>\n",
       "      <td>0.01</td>\n",
       "      <td>CRIM</td>\n",
       "      <td>-1.017356</td>\n",
       "    </tr>\n",
       "    <tr>\n",
       "      <th>1</th>\n",
       "      <td>0.01</td>\n",
       "      <td>ZN</td>\n",
       "      <td>0.893794</td>\n",
       "    </tr>\n",
       "    <tr>\n",
       "      <th>2</th>\n",
       "      <td>0.01</td>\n",
       "      <td>INDUS</td>\n",
       "      <td>0.052857</td>\n",
       "    </tr>\n",
       "    <tr>\n",
       "      <th>3</th>\n",
       "      <td>0.01</td>\n",
       "      <td>CHAS</td>\n",
       "      <td>0.701408</td>\n",
       "    </tr>\n",
       "    <tr>\n",
       "      <th>4</th>\n",
       "      <td>0.01</td>\n",
       "      <td>NOX</td>\n",
       "      <td>-2.085800</td>\n",
       "    </tr>\n",
       "  </tbody>\n",
       "</table>\n",
       "</div>"
      ],
      "text/plain": [
       "   alpha    col      coef\n",
       "0   0.01   CRIM -1.017356\n",
       "1   0.01     ZN  0.893794\n",
       "2   0.01  INDUS  0.052857\n",
       "3   0.01   CHAS  0.701408\n",
       "4   0.01    NOX -2.085800"
      ]
     },
     "execution_count": 6,
     "metadata": {},
     "output_type": "execute_result"
    }
   ],
   "source": [
    "alpha_vals = np.arange(0.01, 5, .01) # values of alpha we want to iterate over\n",
    "# this data stores the alpha we tried, and the coefficients (coef) we got for each feature (col)\n",
    "iter_coefs = pd.DataFrame(columns = ['alpha', 'col', 'coef'])\n",
    "iter_train_perf = [] # use this to store training data performance for each iteration\n",
    "iter_test_perf = [] # use this to store test data performance for each iteration\n",
    "\n",
    "# loop over the alpha values and do this:\n",
    "for alpha in alpha_vals:\n",
    "    # fit a model with alpha\n",
    "    clf_lasso = Lasso(alpha)\n",
    "    \n",
    "    # evaluate the model on training and test data\n",
    "    clf_lasso.fit(X_train,y_train)\n",
    "    y_hat_train_lasso = clf_lasso.predict(X_train)\n",
    "    y_hat_test_lasso = clf_lasso.predict(X_test)\n",
    "    \n",
    "    # append training performance to iter_train_perf\n",
    "    rmse_train_lasso = mean_squared_error(y_train, y_hat_train_lasso) ** 0.5\n",
    "    iter_train_perf.append(rmse_train_lasso)\n",
    "    \n",
    "    # append test performance to iter_test_perf\n",
    "    rmse_test_lasso = mean_squared_error(y_test, y_hat_test_lasso) ** 0.5\n",
    "    iter_test_perf.append(rmse_test_lasso)\n",
    "    \n",
    "    # create a DataFrame storing alpha (repeated), feature name matching coefficient\n",
    "    alpha_ = [alpha for i in range(len(df_housing.columns.values))]\n",
    "    new_coef = pd.DataFrame(zip(clf_lasso.coef_, df_housing.columns.values,alpha_),columns = ['coef','col','alpha'])\n",
    "    \n",
    "    # append the above DataFrame to iter_coefs\n",
    "    iter_coefs = iter_coefs.append(new_coef)\n",
    "iter_coefs.head()"
   ]
  },
  {
   "cell_type": "markdown",
   "metadata": {},
   "source": [
    "5. Using a visual, show how the performance on the training and test data changed as we gradually increased `alpha`. "
   ]
  },
  {
   "cell_type": "code",
   "execution_count": 7,
   "metadata": {},
   "outputs": [
    {
     "data": {
      "image/png": "[encoded data removed]",
      "text/plain": [
       "<Figure size 432x288 with 1 Axes>"
      ]
     },
     "metadata": {
      "needs_background": "light"
     },
     "output_type": "display_data"
    }
   ],
   "source": [
    "plt.plot(alpha_vals, iter_train_perf, alpha_vals, iter_test_perf)\n",
    "plt.legend(['train performance','test performance'])\n",
    "plt.xlabel(\"alpha\")\n",
    "plt.ylabel(\"performance\")\n",
    "plt.show()"
   ]
  },
  {
   "cell_type": "markdown",
   "metadata": {},
   "source": [
    "6. Using a visual, show how the model's coefficients changed as we gradually increased the shrinkage parameter `alpha`.They should appear to be shrinking toward zero as you increase `alpha`! "
   ]
  },
  {
   "cell_type": "code",
   "execution_count": 8,
   "metadata": {},
   "outputs": [
    {
     "data": {
      "image/png": "[encoded data removed]",
      "text/plain": [
       "<Figure size 432x288 with 1 Axes>"
      ]
     },
     "metadata": {
      "needs_background": "light"
     },
     "output_type": "display_data"
    }
   ],
   "source": [
    "plt.scatter(iter_coefs['alpha'],iter_coefs['coef'])\n",
    "plt.legend(iter_coefs['col'])\n",
    "plt.xlabel(\"alpha\")\n",
    "plt.ylabel(\"coefficient\")\n",
    "plt.show()"
   ]
  },
  {
   "cell_type": "markdown",
   "metadata": {},
   "source": [
    "7. `Ridge` and `Lasso` return the same trained model when `alpha = 0.00001` (i.e. close to zero). "
   ]
  },
  {
   "cell_type": "code",
   "execution_count": 9,
   "metadata": {},
   "outputs": [],
   "source": [
    "from sklearn.linear_model import Ridge\n",
    "alpha = 0.00001\n",
    "clf_ridge = Ridge(alpha)\n",
    "clf_ridge.fit(X_train,y_train)\n",
    "y_hat_train_ridge = clf_lasso.predict(X_train)\n",
    "y_hat_test_ridge = clf_lasso.predict(X_test)"
   ]
  },
  {
   "cell_type": "markdown",
   "metadata": {},
   "source": [
    "8. Repeat step 4 this time using `Ridge` instead of `Lasso`. We will use the following range for `alpha`: "
   ]
  },
  {
   "cell_type": "code",
   "execution_count": 10,
   "metadata": {},
   "outputs": [
    {
     "data": {
      "text/html": [
       "<div>\n",
       "<style scoped>\n",
       "    .dataframe tbody tr th:only-of-type {\n",
       "        vertical-align: middle;\n",
       "    }\n",
       "\n",
       "    .dataframe tbody tr th {\n",
       "        vertical-align: top;\n",
       "    }\n",
       "\n",
       "    .dataframe thead th {\n",
       "        text-align: right;\n",
       "    }\n",
       "</style>\n",
       "<table border=\"1\" class=\"dataframe\">\n",
       "  <thead>\n",
       "    <tr style=\"text-align: right;\">\n",
       "      <th></th>\n",
       "      <th>alpha</th>\n",
       "      <th>col</th>\n",
       "      <th>coef</th>\n",
       "    </tr>\n",
       "  </thead>\n",
       "  <tbody>\n",
       "    <tr>\n",
       "      <th>0</th>\n",
       "      <td>0.01</td>\n",
       "      <td>CRIM</td>\n",
       "      <td>-1.017356</td>\n",
       "    </tr>\n",
       "    <tr>\n",
       "      <th>1</th>\n",
       "      <td>0.01</td>\n",
       "      <td>ZN</td>\n",
       "      <td>0.893794</td>\n",
       "    </tr>\n",
       "    <tr>\n",
       "      <th>2</th>\n",
       "      <td>0.01</td>\n",
       "      <td>INDUS</td>\n",
       "      <td>0.052857</td>\n",
       "    </tr>\n",
       "    <tr>\n",
       "      <th>3</th>\n",
       "      <td>0.01</td>\n",
       "      <td>CHAS</td>\n",
       "      <td>0.701408</td>\n",
       "    </tr>\n",
       "    <tr>\n",
       "      <th>4</th>\n",
       "      <td>0.01</td>\n",
       "      <td>NOX</td>\n",
       "      <td>-2.085800</td>\n",
       "    </tr>\n",
       "  </tbody>\n",
       "</table>\n",
       "</div>"
      ],
      "text/plain": [
       "   alpha    col      coef\n",
       "0   0.01   CRIM -1.017356\n",
       "1   0.01     ZN  0.893794\n",
       "2   0.01  INDUS  0.052857\n",
       "3   0.01   CHAS  0.701408\n",
       "4   0.01    NOX -2.085800"
      ]
     },
     "execution_count": 10,
     "metadata": {},
     "output_type": "execute_result"
    }
   ],
   "source": [
    "\n",
    "alpha_vals = np.arange(0.01, 5, .01) # values of alpha we want to iterate over\n",
    "# this data stores the alpha we tried, and the coefficients (coef) we got for each feature (col)\n",
    "iter_coefs_ridge = pd.DataFrame(columns = ['alpha', 'col', 'coef'])\n",
    "iter_train_perf_ridge = [] # use this to store training data performance for each iteration\n",
    "iter_test_perf_ridge = [] # use this to store test data performance for each iteration\n",
    "\n",
    "# loop over the alpha values and do this:\n",
    "for alpha in alpha_vals:\n",
    "    # fit a model with alpha\n",
    "    clf_ridge = Ridge(alpha)\n",
    "    \n",
    "    # evaluate the model on training and test data\n",
    "    clf_ridge.fit(X_train,y_train)\n",
    "    y_hat_train_ridge = clf_ridge.predict(X_train)\n",
    "    y_hat_test_ridge = clf_ridge.predict(X_test)\n",
    "    \n",
    "    # append training performance to iter_train_perf\n",
    "    rmse_train_ridge = mean_squared_error(y_train, y_hat_train_ridge) ** 0.5\n",
    "    iter_train_perf_ridge.append(rmse_train_ridge)\n",
    "    \n",
    "    # append test performance to iter_test_perf\n",
    "    rmse_test = mean_squared_error(y_test, y_hat_test_ridge) ** 0.5\n",
    "    iter_test_perf_ridge.append(rmse_train_ridge)\n",
    "    \n",
    "    # create a DataFrame storing alpha (repeated), feature name matching coefficient\n",
    "    alpha_ = [alpha for i in range(len(df_housing.columns.values))]\n",
    "    new_coef = pd.DataFrame(zip(clf_ridge.coef_, df_housing.columns.values,alpha_),columns = ['coef','col','alpha'])\n",
    "    \n",
    "    # append the above DataFrame to iter_coefs\n",
    "    iter_coefs = iter_coefs.append(new_coef)\n",
    "iter_coefs.head()"
   ]
  },
  {
   "cell_type": "markdown",
   "metadata": {},
   "source": [
    "9. Using a visual, show how the performance on the training and test data changed as we gradually increased `alpha`. "
   ]
  },
  {
   "cell_type": "code",
   "execution_count": 11,
   "metadata": {},
   "outputs": [
    {
     "data": {
      "image/png": "[encoded data removed]",
      "text/plain": [
       "<Figure size 432x288 with 1 Axes>"
      ]
     },
     "metadata": {
      "needs_background": "light"
     },
     "output_type": "display_data"
    }
   ],
   "source": [
    "plt.plot(alpha_vals, iter_train_perf_ridge, alpha_vals, iter_test_perf_ridge)\n",
    "plt.legend(['train performance','test performance'])\n",
    "plt.xlabel(\"alpha\")\n",
    "plt.ylabel(\"performance\")\n",
    "plt.show()"
   ]
  },
  {
   "cell_type": "markdown",
   "metadata": {},
   "source": [
    "10. Using a visual, show how the model's coefficients changed as we gradually increased the shrinkage parameter `alpha`."
   ]
  },
  {
   "cell_type": "code",
   "execution_count": 12,
   "metadata": {},
   "outputs": [
    {
     "data": {
      "image/png": "[encoded data removed]",
      "text/plain": [
       "<Figure size 432x288 with 1 Axes>"
      ]
     },
     "metadata": {
      "needs_background": "light"
     },
     "output_type": "display_data"
    }
   ],
   "source": [
    "plt.scatter(iter_coefs['alpha'],iter_coefs['coef'])\n",
    "plt.legend(iter_coefs['col'])\n",
    "plt.xlabel(\"alpha\")\n",
    "plt.ylabel(\"coefficient\")\n",
    "plt.show()"
   ]
  },
  {
   "cell_type": "markdown",
   "metadata": {},
   "source": [
    "Changing alpha will gradually drop features that arent affect the prediction. "
   ]
  }
 ],
 "metadata": {
  "kernelspec": {
   "display_name": "Python 3",
   "language": "python",
   "name": "python3"
  },
  "language_info": {
   "codemirror_mode": {
    "name": "ipython",
    "version": 3
   },
   "file_extension": ".py",
   "mimetype": "text/x-python",
   "name": "python",
   "nbconvert_exporter": "python",
   "pygments_lexer": "ipython3",
   "version": "3.7.4"
  }
 },
 "nbformat": 4,
 "nbformat_minor": 4
}
