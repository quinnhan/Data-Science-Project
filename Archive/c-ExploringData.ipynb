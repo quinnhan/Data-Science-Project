{
 "cells": [
  {
   "cell_type": "markdown",
   "metadata": {},
   "source": [
    "# Exploring data\n",
    "\n",
    "In this assignment, we want to read in the `retail-churn.csv` dataset and run some EDA on the data. Generally speaking, when we run EDA on a dataset, we don't have a particular goal in mind. Instead we want to get a \"gut-feel\" for what the data looks like. The goal of the assignment is to show your ability to examine a dataset with increasing depth as you go."
   ]
  },
  {
   "cell_type": "code",
   "execution_count": 2,
   "metadata": {
    "scrolled": true
   },
   "outputs": [
    {
     "data": {
      "text/html": [
       "<div>\n",
       "<style scoped>\n",
       "    .dataframe tbody tr th:only-of-type {\n",
       "        vertical-align: middle;\n",
       "    }\n",
       "\n",
       "    .dataframe tbody tr th {\n",
       "        vertical-align: top;\n",
       "    }\n",
       "\n",
       "    .dataframe thead th {\n",
       "        text-align: right;\n",
       "    }\n",
       "</style>\n",
       "<table border=\"1\" class=\"dataframe\">\n",
       "  <thead>\n",
       "    <tr style=\"text-align: right;\">\n",
       "      <th></th>\n",
       "      <th>user_id</th>\n",
       "      <th>gender</th>\n",
       "      <th>address</th>\n",
       "      <th>store_id</th>\n",
       "      <th>trans_id</th>\n",
       "      <th>timestamp</th>\n",
       "      <th>item_id</th>\n",
       "      <th>quantity</th>\n",
       "      <th>dollar</th>\n",
       "    </tr>\n",
       "  </thead>\n",
       "  <tbody>\n",
       "    <tr>\n",
       "      <th>0</th>\n",
       "      <td>101981</td>\n",
       "      <td>F</td>\n",
       "      <td>E</td>\n",
       "      <td>2860</td>\n",
       "      <td>818463</td>\n",
       "      <td>11/1/2000 0:00</td>\n",
       "      <td>4.710000e+12</td>\n",
       "      <td>1</td>\n",
       "      <td>37</td>\n",
       "    </tr>\n",
       "    <tr>\n",
       "      <th>1</th>\n",
       "      <td>101981</td>\n",
       "      <td>F</td>\n",
       "      <td>E</td>\n",
       "      <td>2861</td>\n",
       "      <td>818464</td>\n",
       "      <td>11/1/2000 0:00</td>\n",
       "      <td>4.710000e+12</td>\n",
       "      <td>1</td>\n",
       "      <td>17</td>\n",
       "    </tr>\n",
       "    <tr>\n",
       "      <th>2</th>\n",
       "      <td>101981</td>\n",
       "      <td>F</td>\n",
       "      <td>E</td>\n",
       "      <td>2862</td>\n",
       "      <td>818465</td>\n",
       "      <td>11/1/2000 0:00</td>\n",
       "      <td>4.710000e+12</td>\n",
       "      <td>1</td>\n",
       "      <td>23</td>\n",
       "    </tr>\n",
       "    <tr>\n",
       "      <th>3</th>\n",
       "      <td>101981</td>\n",
       "      <td>F</td>\n",
       "      <td>E</td>\n",
       "      <td>2863</td>\n",
       "      <td>818466</td>\n",
       "      <td>11/1/2000 0:00</td>\n",
       "      <td>4.710000e+12</td>\n",
       "      <td>1</td>\n",
       "      <td>41</td>\n",
       "    </tr>\n",
       "    <tr>\n",
       "      <th>4</th>\n",
       "      <td>101981</td>\n",
       "      <td>F</td>\n",
       "      <td>E</td>\n",
       "      <td>2864</td>\n",
       "      <td>818467</td>\n",
       "      <td>11/1/2000 0:00</td>\n",
       "      <td>4.710000e+12</td>\n",
       "      <td>8</td>\n",
       "      <td>288</td>\n",
       "    </tr>\n",
       "  </tbody>\n",
       "</table>\n",
       "</div>"
      ],
      "text/plain": [
       "   user_id gender address  store_id  trans_id       timestamp       item_id  \\\n",
       "0   101981      F       E      2860    818463  11/1/2000 0:00  4.710000e+12   \n",
       "1   101981      F       E      2861    818464  11/1/2000 0:00  4.710000e+12   \n",
       "2   101981      F       E      2862    818465  11/1/2000 0:00  4.710000e+12   \n",
       "3   101981      F       E      2863    818466  11/1/2000 0:00  4.710000e+12   \n",
       "4   101981      F       E      2864    818467  11/1/2000 0:00  4.710000e+12   \n",
       "\n",
       "   quantity  dollar  \n",
       "0         1      37  \n",
       "1         1      17  \n",
       "2         1      23  \n",
       "3         1      41  \n",
       "4         8     288  "
      ]
     },
     "execution_count": 2,
     "metadata": {},
     "output_type": "execute_result"
    }
   ],
   "source": [
    "import pandas as pd\n",
    "import seaborn as sns\n",
    "\n",
    "col_names = ['user_id', 'gender', 'address', 'store_id', 'trans_id', 'timestamp', 'item_id', 'quantity', 'dollar']\n",
    "churn = pd.read_csv(\"retail-churn.csv\", sep = \",\", skiprows = 1, names = col_names)\n",
    "churn.head()"
   ]
  },
  {
   "cell_type": "markdown",
   "metadata": {},
   "source": [
    "Here are some examples of questions we can be asking:\n",
    "\n",
    "1. What are the columns, their types and their distribution (when it makes sense)? "
   ]
  },
  {
   "cell_type": "code",
   "execution_count": 3,
   "metadata": {},
   "outputs": [
    {
     "name": "stdout",
     "output_type": "stream",
     "text": [
      "user_id        int64\n",
      "gender        object\n",
      "address       object\n",
      "store_id       int64\n",
      "trans_id       int64\n",
      "timestamp     object\n",
      "item_id      float64\n",
      "quantity       int64\n",
      "dollar         int64\n",
      "dtype: object\n"
     ]
    },
    {
     "data": {
      "text/plain": [
       "<seaborn.axisgrid.FacetGrid at 0x7f8a33e42d90>"
      ]
     },
     "execution_count": 3,
     "metadata": {},
     "output_type": "execute_result"
    },
    {
     "data": {
      "image/png": "[encoded data removed]",
      "text/plain": [
       "<Figure size 360x360 with 1 Axes>"
      ]
     },
     "metadata": {
      "needs_background": "light"
     },
     "output_type": "display_data"
    }
   ],
   "source": [
    "print(churn.dtypes)\n",
    "sns.displot(churn['user_id'])"
   ]
  },
  {
   "cell_type": "markdown",
   "metadata": {},
   "source": [
    "2. Do the columns have the right types for the analysis? If not, convert them to the right type. "
   ]
  },
  {
   "cell_type": "code",
   "execution_count": 4,
   "metadata": {},
   "outputs": [
    {
     "data": {
      "text/plain": [
       "user_id              object\n",
       "gender               object\n",
       "address              object\n",
       "store_id             object\n",
       "trans_id             object\n",
       "timestamp    datetime64[ns]\n",
       "item_id              object\n",
       "quantity              int64\n",
       "dollar              float64\n",
       "dtype: object"
      ]
     },
     "execution_count": 4,
     "metadata": {},
     "output_type": "execute_result"
    }
   ],
   "source": [
    "churn = churn.astype({\"user_id\":str,\"store_id\":str, \"trans_id\":str,\"item_id\":str, \"dollar\":float})\n",
    "churn['timestamp'] = pd.to_datetime(churn['timestamp'])\n",
    "churn.dtypes"
   ]
  },
  {
   "cell_type": "markdown",
   "metadata": {},
   "source": [
    "3. Do any columns appear to have unique rows? How do we show that? "
   ]
  },
  {
   "cell_type": "code",
   "execution_count": 5,
   "metadata": {},
   "outputs": [
    {
     "name": "stdout",
     "output_type": "stream",
     "text": [
      "user_id\n",
      "        user_id gender address store_id trans_id  timestamp          item_id  \\\n",
      "0        101981      F       E     2860   818463 2000-11-01  4710000000000.0   \n",
      "18       164252      G       E     2190   818325 2000-11-01  4710000000000.0   \n",
      "26       166324      I       E     4145   818806 2000-11-01  4710000000000.0   \n",
      "43       191050      C       E     3818   818703 2000-11-01   723000000000.0   \n",
      "49       196734      J       H     4546   818868 2000-11-01  4710000000000.0   \n",
      "...         ...    ...     ...      ...      ...        ...              ...   \n",
      "252092  2179315      J       E   251908  1628261 2001-02-28  4710000000000.0   \n",
      "252094  2179346      A       G   251919  1628588 2001-02-28  4710000000000.0   \n",
      "252109  2179414      F       G   251867  1628249 2001-02-28  4710000000000.0   \n",
      "252145  2179469      C       E   251912  1628374 2001-02-28  4710000000000.0   \n",
      "252152  2179605      B       G   251791  1628025 2001-02-28  4710000000000.0   \n",
      "\n",
      "        quantity  dollar  \n",
      "0              1    37.0  \n",
      "18             2    48.0  \n",
      "26             1    32.0  \n",
      "43             1   135.0  \n",
      "49             1    22.0  \n",
      "...          ...     ...  \n",
      "252092         2   278.0  \n",
      "252094         2    98.0  \n",
      "252109         1   199.0  \n",
      "252145         1    99.0  \n",
      "252152         1    20.0  \n",
      "\n",
      "[10000 rows x 9 columns]\n",
      "gender\n",
      "     user_id gender address store_id trans_id  timestamp          item_id  \\\n",
      "0     101981      F       E     2860   818463 2000-11-01  4710000000000.0   \n",
      "18    164252      G       E     2190   818325 2000-11-01  4710000000000.0   \n",
      "26    166324      I       E     4145   818806 2000-11-01  4710000000000.0   \n",
      "43    191050      C       E     3818   818703 2000-11-01   723000000000.0   \n",
      "49    196734      J       H     4546   818868 2000-11-01  4710000000000.0   \n",
      "75    347877      E       E     2087   818154 2000-11-01  4710000000000.0   \n",
      "76    426541      D       D      493   817774 2000-11-01  4710000000000.0   \n",
      "87    439725      H       E      838   817810 2000-11-01  4710000000000.0   \n",
      "102   768566      K       E      109   817749 2000-11-01  4710000000000.0   \n",
      "142  1071115      B       E     3937   818705 2000-11-01  4710000000000.0   \n",
      "186  1662764      A       E     4778   818900 2000-11-01  4710000000000.0   \n",
      "\n",
      "     quantity  dollar  \n",
      "0           1    37.0  \n",
      "18          2    48.0  \n",
      "26          1    32.0  \n",
      "43          1   135.0  \n",
      "49          1    22.0  \n",
      "75          1   157.0  \n",
      "76          2    58.0  \n",
      "87          2    54.0  \n",
      "102         1    55.0  \n",
      "142         1   145.0  \n",
      "186         1    59.0  \n",
      "address\n",
      "      user_id gender address store_id trans_id  timestamp          item_id  \\\n",
      "0      101981      F       E     2860   818463 2000-11-01  4710000000000.0   \n",
      "49     196734      J       H     4546   818868 2000-11-01  4710000000000.0   \n",
      "76     426541      D       D      493   817774 2000-11-01  4710000000000.0   \n",
      "160   1187366      B       F      524   817781 2000-11-01  4710000000000.0   \n",
      "235   1790184      D       G     4521   818829 2000-11-01  4710000000000.0   \n",
      "273   2033839      F       C     1969   818013 2000-11-01  4710000000000.0   \n",
      "726    421317      J       B     8723   819356 2000-11-02  4710000000000.0   \n",
      "1370  1380934      I       A     6337   819050 2000-11-02  4710000000000.0   \n",
      "\n",
      "      quantity  dollar  \n",
      "0            1    37.0  \n",
      "49           1    22.0  \n",
      "76           2    58.0  \n",
      "160          1    85.0  \n",
      "235          1    52.0  \n",
      "273          1   138.0  \n",
      "726          2    48.0  \n",
      "1370         1    99.0  \n",
      "store_id\n",
      "        user_id gender address store_id trans_id  timestamp          item_id  \\\n",
      "0        101981      F       E     2860   818463 2000-11-01  4710000000000.0   \n",
      "1        101981      F       E     2861   818464 2000-11-01  4710000000000.0   \n",
      "2        101981      F       E     2862   818465 2000-11-01  4710000000000.0   \n",
      "3        101981      F       E     2863   818466 2000-11-01  4710000000000.0   \n",
      "4        101981      F       E     2864   818467 2000-11-01  4710000000000.0   \n",
      "...         ...    ...     ...      ...      ...        ...              ...   \n",
      "252199  2179605      B       G   251838  1630692 2001-02-28  2250000000000.0   \n",
      "252200  2179605      B       G   251839  1630821 2001-02-28  4710000000000.0   \n",
      "252201  2179605      B       G   251840  1630931 2001-02-28  4710000000000.0   \n",
      "252202  2179605      B       G   251841  1631033 2001-02-28  4710000000000.0   \n",
      "252203  2179605      B       G   251842  1631048 2001-02-28  4710000000000.0   \n",
      "\n",
      "        quantity  dollar  \n",
      "0              1    37.0  \n",
      "1              1    17.0  \n",
      "2              1    23.0  \n",
      "3              1    41.0  \n",
      "4              8   288.0  \n",
      "...          ...     ...  \n",
      "252199         2   138.0  \n",
      "252200         1    96.0  \n",
      "252201         1    89.0  \n",
      "252202         1   108.0  \n",
      "252203         1    95.0  \n",
      "\n",
      "[252204 rows x 9 columns]\n",
      "trans_id\n",
      "        user_id gender address store_id trans_id  timestamp          item_id  \\\n",
      "0        101981      F       E     2860   818463 2000-11-01  4710000000000.0   \n",
      "1        101981      F       E     2861   818464 2000-11-01  4710000000000.0   \n",
      "2        101981      F       E     2862   818465 2000-11-01  4710000000000.0   \n",
      "3        101981      F       E     2863   818466 2000-11-01  4710000000000.0   \n",
      "4        101981      F       E     2864   818467 2000-11-01  4710000000000.0   \n",
      "...         ...    ...     ...      ...      ...        ...              ...   \n",
      "252199  2179605      B       G   251838  1630692 2001-02-28  2250000000000.0   \n",
      "252200  2179605      B       G   251839  1630821 2001-02-28  4710000000000.0   \n",
      "252201  2179605      B       G   251840  1630931 2001-02-28  4710000000000.0   \n",
      "252202  2179605      B       G   251841  1631033 2001-02-28  4710000000000.0   \n",
      "252203  2179605      B       G   251842  1631048 2001-02-28  4710000000000.0   \n",
      "\n",
      "        quantity  dollar  \n",
      "0              1    37.0  \n",
      "1              1    17.0  \n",
      "2              1    23.0  \n",
      "3              1    41.0  \n",
      "4              8   288.0  \n",
      "...          ...     ...  \n",
      "252199         2   138.0  \n",
      "252200         1    96.0  \n",
      "252201         1    89.0  \n",
      "252202         1   108.0  \n",
      "252203         1    95.0  \n",
      "\n",
      "[252204 rows x 9 columns]\n",
      "timestamp\n",
      "       user_id gender address store_id trans_id  timestamp          item_id  \\\n",
      "0       101981      F       E     2860   818463 2000-11-01  4710000000000.0   \n",
      "323       1823      K       D     9803   819642 2000-11-02   300000000000.0   \n",
      "2734     20459      E       D    16042   831174 2000-11-03  8800000000000.0   \n",
      "4793     10801      D       E    48569   840537 2000-11-04  4710000000000.0   \n",
      "7913     16803      D       F    63159   851281 2000-11-05  4710000000000.0   \n",
      "...        ...    ...     ...      ...      ...        ...              ...   \n",
      "239829    6668      D       E   110973  1601802 2001-02-24  4710000000000.0   \n",
      "242952   20459      E       D    17213  1612731 2001-02-25  7620000000000.0   \n",
      "246801   10801      D       E    48651  1620294 2001-02-26  4710000000000.0   \n",
      "247984   11235      K       F   131213  1622273 2001-02-27  4720000000000.0   \n",
      "249328   20459      E       D    17237  1628313 2001-02-28  4710000000000.0   \n",
      "\n",
      "        quantity  dollar  \n",
      "0              1    37.0  \n",
      "323            2   158.0  \n",
      "2734           1    72.0  \n",
      "4793           1    89.0  \n",
      "7913           1    30.0  \n",
      "...          ...     ...  \n",
      "239829         1    38.0  \n",
      "242952         1    75.0  \n",
      "246801         1   137.0  \n",
      "247984         1    66.0  \n",
      "249328         1   679.0  \n",
      "\n",
      "[120 rows x 9 columns]\n",
      "item_id\n",
      "        user_id gender address store_id trans_id  timestamp          item_id  \\\n",
      "0        101981      F       E     2860   818463 2000-11-01  4710000000000.0   \n",
      "11       101981      F       E     2871   818487 2000-11-01   615000000000.0   \n",
      "13       101981      F       E     2873   818491 2000-11-01  8800000000000.0   \n",
      "17       101981      F       E     2877   818509 2000-11-01  4900000000000.0   \n",
      "32       166324      I       E     4151   818824 2000-11-01  9000000000000.0   \n",
      "...         ...    ...     ...      ...      ...        ...              ...   \n",
      "249425   147910      D       E   132406  1626497 2001-02-28       20546656.0   \n",
      "249854  1002706      K       E   128369  1634390 2001-02-28    41554628616.0   \n",
      "250279  1454833      F       F   118431  1633080 2001-02-28       20461492.0   \n",
      "250377  1494617      D       F   180994  1629002 2001-02-28       20434090.0   \n",
      "250680  1627763      D       E   116337  1632826 2001-02-28       20192310.0   \n",
      "\n",
      "        quantity  dollar  \n",
      "0              1    37.0  \n",
      "11             1    69.0  \n",
      "13             4   208.0  \n",
      "17             1   208.0  \n",
      "32             1    85.0  \n",
      "...          ...     ...  \n",
      "249425         4  1296.0  \n",
      "249854         1   235.0  \n",
      "250279         1    59.0  \n",
      "250377         1    55.0  \n",
      "250680         2  1044.0  \n",
      "\n",
      "[2818 rows x 9 columns]\n",
      "quantity\n",
      "        user_id gender address store_id trans_id  timestamp          item_id  \\\n",
      "0        101981      F       E     2860   818463 2000-11-01  4710000000000.0   \n",
      "4        101981      F       E     2864   818467 2000-11-01  4710000000000.0   \n",
      "5        101981      F       E     2865   818471 2000-11-01  4710000000000.0   \n",
      "13       101981      F       E     2873   818491 2000-11-01  8800000000000.0   \n",
      "90       439725      H       E      841   818121 2000-11-01  4710000000000.0   \n",
      "...         ...    ...     ...      ...      ...        ...              ...   \n",
      "157354  1621945      C       F   191580  1329367 2001-01-19       20513023.0   \n",
      "163074  2133669      B       G   234774  1349317 2001-01-20  8710000000000.0   \n",
      "163095  2134819      E       H   216467  1343755 2001-01-20  4710000000000.0   \n",
      "165869  1465662      D       D   201119  1354597 2001-01-21       80050278.0   \n",
      "211408  2084381      D       E   168257  1452057 2001-02-10       80050278.0   \n",
      "\n",
      "        quantity   dollar  \n",
      "0              1     37.0  \n",
      "4              8    288.0  \n",
      "5              2     34.0  \n",
      "13             4    208.0  \n",
      "90             3     57.0  \n",
      "...          ...      ...  \n",
      "157354        32    576.0  \n",
      "163074        40  26562.0  \n",
      "163095        79  32947.0  \n",
      "165869        51   1326.0  \n",
      "211408        34    884.0  \n",
      "\n",
      "[62 rows x 9 columns]\n",
      "dollar\n",
      "        user_id gender address store_id trans_id  timestamp          item_id  \\\n",
      "0        101981      F       E     2860   818463 2000-11-01  4710000000000.0   \n",
      "1        101981      F       E     2861   818464 2000-11-01  4710000000000.0   \n",
      "2        101981      F       E     2862   818465 2000-11-01  4710000000000.0   \n",
      "3        101981      F       E     2863   818466 2000-11-01  4710000000000.0   \n",
      "4        101981      F       E     2864   818467 2000-11-01  4710000000000.0   \n",
      "...         ...    ...     ...      ...      ...        ...              ...   \n",
      "247513  1704389      D       G   192893  1619611 2001-02-26  4710000000000.0   \n",
      "248678  1528848      C       F   136236  1623829 2001-02-27  4710000000000.0   \n",
      "249467   170536      G       B   252203  1635360 2001-02-28  4710000000000.0   \n",
      "249679   588423      C       G   243474  1628196 2001-02-28  8710000000000.0   \n",
      "251628  2016863      A       E   236015  1630258 2001-02-28       20564100.0   \n",
      "\n",
      "        quantity  dollar  \n",
      "0              1    37.0  \n",
      "1              1    17.0  \n",
      "2              1    23.0  \n",
      "3              1    41.0  \n",
      "4              8   288.0  \n",
      "...          ...     ...  \n",
      "247513         8  2760.0  \n",
      "248678         3   577.0  \n",
      "249467         2  1158.0  \n",
      "249679         3  1797.0  \n",
      "251628         2  1788.0  \n",
      "\n",
      "[1602 rows x 9 columns]\n"
     ]
    }
   ],
   "source": [
    "for col in churn.columns:\n",
    "    print(col)\n",
    "    print(churn.drop_duplicates(subset = col ))"
   ]
  },
  {
   "cell_type": "markdown",
   "metadata": {},
   "source": [
    "4. What are some \"obvious\" questions we can ask about the data? We can ask many questions here, but we limit it to two:\n",
    "   - Is quantity or volume ever negative and why? \n",
    "   - What is the date range covered by the data? \n",
    "     HINT: You will need to convert `timestamp` into an a `datetime` column. You can use `pd.to_datetime` for that. We leave it to you to learn more about working with `datetime` colums."
   ]
  },
  {
   "cell_type": "code",
   "execution_count": 6,
   "metadata": {},
   "outputs": [
    {
     "name": "stdout",
     "output_type": "stream",
     "text": [
      "there is 0 negative quantity found\n",
      "purchase date are in range 2000-11-01 00:00:00 and 2001-02-28 00:00:00\n"
     ]
    }
   ],
   "source": [
    "churn_df = pd.DataFrame(churn)\n",
    "count = 0\n",
    "for i in range(len(churn_df)):\n",
    "    vol = churn_df.loc[i,\"quantity\"]\n",
    "    if vol < 0:\n",
    "        count += 1\n",
    "print(\"there is \" + str(count) + \" negative quantity found\")\n",
    "\n",
    "start_date = min(churn_df[\"timestamp\"])\n",
    "end_date = max(churn_df[\"timestamp\"])\n",
    "print(\"purchase date are in range \" + str(start_date) + \" and \" + str(end_date))"
   ]
  },
  {
   "cell_type": "markdown",
   "metadata": {},
   "source": [
    "5. What are some \"not-so-obvious\" questions we can ask about this data? What are some important summary statistics and visualizations we should look at to answer them? Note that having domain knowledge can make this easier, so here's a list of questions and your task is to pick at least two questions and answer them using statistical summaries or visualizations:\n",
    "   - How many transactions on average do users have in a given week? \n",
    "   - Are there items that are more commonly sold in bulk (quantity greater than 1)? \n",
    "Note that the above questions are intetionally phrased to sound non-technical. It is up to you to \"translate\" them into something that can be answered by a query on the data or a visualization."
   ]
  },
  {
   "cell_type": "code",
   "execution_count": 9,
   "metadata": {},
   "outputs": [
    {
     "name": "stdout",
     "output_type": "stream",
     "text": [
      "average transactions users have in a given week :25.2204\n"
     ]
    },
    {
     "data": {
      "text/plain": [
       "0         False\n",
       "1         False\n",
       "2         False\n",
       "3         False\n",
       "4          True\n",
       "          ...  \n",
       "252199     True\n",
       "252200    False\n",
       "252201    False\n",
       "252202    False\n",
       "252203    False\n",
       "Name: quantity, Length: 252204, dtype: bool"
      ]
     },
     "execution_count": 9,
     "metadata": {},
     "output_type": "execute_result"
    }
   ],
   "source": [
    "# How many transactions on average do users have in a given week?\n",
    "print(\"average transactions users have in a given week :\" + str(len(churn)/len(churn.drop_duplicates(subset = \"user_id\" ))))\n",
    "# Are there items that are more commonly sold in bulk (quantity greater than 1)?\n",
    "bulk_items = churn['quantity'] > 1\n",
    "bulk_items"
   ]
  },
  {
   "cell_type": "markdown",
   "metadata": {},
   "source": [
    "6. Do the results mesh with what we expected? This question requires some domain knowledge"
   ]
  },
  {
   "cell_type": "markdown",
   "metadata": {},
   "source": [
    "7. What are additional features we could extract from the data? This is especially relevant if the data contains a timestamp column or raw text column (such as a full address for example). \n",
    "<span style = \"color: blue\" float:right> There are multiple features that could be presented to decision makers such as: \n",
    "- What are revenue generated by store?\n",
    "- Popular items by store? which lead to how do we improve other stores (marketing strategies, demographical analytics...)</span>"
   ]
  },
  {
   "cell_type": "code",
   "execution_count": 10,
   "metadata": {},
   "outputs": [
    {
     "data": {
      "text/html": [
       "<div>\n",
       "<style scoped>\n",
       "    .dataframe tbody tr th:only-of-type {\n",
       "        vertical-align: middle;\n",
       "    }\n",
       "\n",
       "    .dataframe tbody tr th {\n",
       "        vertical-align: top;\n",
       "    }\n",
       "\n",
       "    .dataframe thead th {\n",
       "        text-align: right;\n",
       "    }\n",
       "</style>\n",
       "<table border=\"1\" class=\"dataframe\">\n",
       "  <thead>\n",
       "    <tr style=\"text-align: right;\">\n",
       "      <th></th>\n",
       "      <th>quantity</th>\n",
       "      <th>dollar</th>\n",
       "    </tr>\n",
       "    <tr>\n",
       "      <th>store_id</th>\n",
       "      <th></th>\n",
       "      <th></th>\n",
       "    </tr>\n",
       "  </thead>\n",
       "  <tbody>\n",
       "    <tr>\n",
       "      <th>0</th>\n",
       "      <td>1</td>\n",
       "      <td>46.0</td>\n",
       "    </tr>\n",
       "    <tr>\n",
       "      <th>1</th>\n",
       "      <td>1</td>\n",
       "      <td>59.0</td>\n",
       "    </tr>\n",
       "    <tr>\n",
       "      <th>10</th>\n",
       "      <td>2</td>\n",
       "      <td>48.0</td>\n",
       "    </tr>\n",
       "    <tr>\n",
       "      <th>100</th>\n",
       "      <td>1</td>\n",
       "      <td>135.0</td>\n",
       "    </tr>\n",
       "    <tr>\n",
       "      <th>1000</th>\n",
       "      <td>1</td>\n",
       "      <td>104.0</td>\n",
       "    </tr>\n",
       "    <tr>\n",
       "      <th>...</th>\n",
       "      <td>...</td>\n",
       "      <td>...</td>\n",
       "    </tr>\n",
       "    <tr>\n",
       "      <th>99995</th>\n",
       "      <td>1</td>\n",
       "      <td>69.0</td>\n",
       "    </tr>\n",
       "    <tr>\n",
       "      <th>99996</th>\n",
       "      <td>2</td>\n",
       "      <td>292.0</td>\n",
       "    </tr>\n",
       "    <tr>\n",
       "      <th>99997</th>\n",
       "      <td>1</td>\n",
       "      <td>38.0</td>\n",
       "    </tr>\n",
       "    <tr>\n",
       "      <th>99998</th>\n",
       "      <td>1</td>\n",
       "      <td>78.0</td>\n",
       "    </tr>\n",
       "    <tr>\n",
       "      <th>99999</th>\n",
       "      <td>3</td>\n",
       "      <td>267.0</td>\n",
       "    </tr>\n",
       "  </tbody>\n",
       "</table>\n",
       "<p>252204 rows × 2 columns</p>\n",
       "</div>"
      ],
      "text/plain": [
       "          quantity  dollar\n",
       "store_id                  \n",
       "0                1    46.0\n",
       "1                1    59.0\n",
       "10               2    48.0\n",
       "100              1   135.0\n",
       "1000             1   104.0\n",
       "...            ...     ...\n",
       "99995            1    69.0\n",
       "99996            2   292.0\n",
       "99997            1    38.0\n",
       "99998            1    78.0\n",
       "99999            3   267.0\n",
       "\n",
       "[252204 rows x 2 columns]"
      ]
     },
     "execution_count": 10,
     "metadata": {},
     "output_type": "execute_result"
    }
   ],
   "source": [
    "churn_df.groupby(\"store_id\").sum()"
   ]
  },
  {
   "cell_type": "markdown",
   "metadata": {},
   "source": [
    "8. Do I see any relationships between the features in the data? You will need to back this up with some statistical summaries or visualizations. "
   ]
  },
  {
   "cell_type": "code",
   "execution_count": 12,
   "metadata": {},
   "outputs": [
    {
     "data": {
      "text/plain": [
       "<seaborn.axisgrid.PairGrid at 0x7f8a2fea33d0>"
      ]
     },
     "execution_count": 12,
     "metadata": {},
     "output_type": "execute_result"
    },
    {
     "data": {
      "image/png": "[encoded data removed]",
      "text/plain": [
       "<Figure size 360x360 with 6 Axes>"
      ]
     },
     "metadata": {
      "needs_background": "light"
     },
     "output_type": "display_data"
    }
   ],
   "source": [
    "import seaborn as sns\n",
    "sns.pairplot(churn_df.sample(100))"
   ]
  },
  {
   "cell_type": "markdown",
   "metadata": {},
   "source": [
    "As you can imagine, there isn't a single way to proceed, and the answer doesn't always have to be exact. It is up to you to decide how you want to convey the results, but assume that your audience is non-technical and not familiar with some of the terminology we learned in the lecture.\n",
    "\n",
    "There are also third-party libraries we can used to run EDA. One example is the `pandas-profiling` library which provides us with a full report. You do not need to use it in this assignment, but we recommend that you install it and take a look on your own time."
   ]
  }
 ],
 "metadata": {
  "kernelspec": {
   "display_name": "Python 3",
   "language": "python",
   "name": "python3"
  },
  "language_info": {
   "codemirror_mode": {
    "name": "ipython",
    "version": 3
   },
   "file_extension": ".py",
   "mimetype": "text/x-python",
   "name": "python",
   "nbconvert_exporter": "python",
   "pygments_lexer": "ipython3",
   "version": "3.7.4"
  }
 },
 "nbformat": 4,
 "nbformat_minor": 4
}
